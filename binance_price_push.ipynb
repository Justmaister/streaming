{
 "cells": [
  {
   "cell_type": "code",
   "execution_count": null,
   "metadata": {},
   "outputs": [],
   "source": [
    "import requests\n",
    "import os\n",
    "from time import sleep\n",
    "from datetime import datetime\n",
    "\n",
    "Power_BI_Endpoint = os.getenv('POWER_BI_ENDPOINT')\n",
    "\n",
    "binance_api_url = 'https://api.binance.com/api/v3/ticker/price?symbol={}'\n",
    "symbol = 'BTCUSDT'\n",
    "# symbol = 'ETHUSDT'\n",
    "url = binance_api_url.format(symbol)\n",
    "\n",
    "while True:\n",
    "    now = datetime.strftime(datetime.now(), \"%Y-%m-%dT%H:%M:%SZ\")\n",
    "\n",
    "    BinanceResponse = requests.get(url).json()\n",
    "    Binanceprice = float(BinanceResponse['price'])\n",
    "    Binancesymbol = BinanceResponse['symbol']\n",
    "\n",
    "    Rows = '[{{ \"Timestamp\": \"{0}\", \"Price\": \"{1}\", \"Symbol\": \"{2}\" }}]'.format(\n",
    "        now, Binanceprice, Binancesymbol\n",
    "    )\n",
    "    req = requests.post(Power_BI_Endpoint, Rows)\n",
    "\n",
    "    sleep(1)"
   ]
  }
 ],
 "metadata": {
  "kernelspec": {
   "display_name": "Python 3",
   "language": "python",
   "name": "python3"
  },
  "language_info": {
   "codemirror_mode": {
    "name": "ipython",
    "version": 3
   },
   "file_extension": ".py",
   "mimetype": "text/x-python",
   "name": "python",
   "nbconvert_exporter": "python",
   "pygments_lexer": "ipython3",
   "version": "3.8.3"
  }
 },
 "nbformat": 4,
 "nbformat_minor": 4
}
